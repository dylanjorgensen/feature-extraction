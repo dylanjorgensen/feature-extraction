{
 "cells": [
  {
   "cell_type": "markdown",
   "metadata": {},
   "source": [
    "# PCA"
   ]
  },
  {
   "cell_type": "markdown",
   "metadata": {},
   "source": [
    "### = Read In CSV..."
   ]
  },
  {
   "cell_type": "code",
   "execution_count": 2,
   "metadata": {
    "collapsed": false
   },
   "outputs": [
    {
     "data": {
      "text/html": [
       "<div>\n",
       "<table border=\"1\" class=\"dataframe\">\n",
       "  <thead>\n",
       "    <tr style=\"text-align: right;\">\n",
       "      <th></th>\n",
       "      <th>Fresh</th>\n",
       "      <th>Milk</th>\n",
       "      <th>Grocery</th>\n",
       "      <th>Frozen</th>\n",
       "      <th>Detergents_Paper</th>\n",
       "      <th>Delicatessen</th>\n",
       "    </tr>\n",
       "  </thead>\n",
       "  <tbody>\n",
       "    <tr>\n",
       "      <th>0</th>\n",
       "      <td>12669</td>\n",
       "      <td>9656</td>\n",
       "      <td>7561</td>\n",
       "      <td>214</td>\n",
       "      <td>2674</td>\n",
       "      <td>1338</td>\n",
       "    </tr>\n",
       "    <tr>\n",
       "      <th>1</th>\n",
       "      <td>7057</td>\n",
       "      <td>9810</td>\n",
       "      <td>9568</td>\n",
       "      <td>1762</td>\n",
       "      <td>3293</td>\n",
       "      <td>1776</td>\n",
       "    </tr>\n",
       "    <tr>\n",
       "      <th>2</th>\n",
       "      <td>6353</td>\n",
       "      <td>8808</td>\n",
       "      <td>7684</td>\n",
       "      <td>2405</td>\n",
       "      <td>3516</td>\n",
       "      <td>7844</td>\n",
       "    </tr>\n",
       "    <tr>\n",
       "      <th>3</th>\n",
       "      <td>13265</td>\n",
       "      <td>1196</td>\n",
       "      <td>4221</td>\n",
       "      <td>6404</td>\n",
       "      <td>507</td>\n",
       "      <td>1788</td>\n",
       "    </tr>\n",
       "    <tr>\n",
       "      <th>4</th>\n",
       "      <td>22615</td>\n",
       "      <td>5410</td>\n",
       "      <td>7198</td>\n",
       "      <td>3915</td>\n",
       "      <td>1777</td>\n",
       "      <td>5185</td>\n",
       "    </tr>\n",
       "  </tbody>\n",
       "</table>\n",
       "</div>"
      ],
      "text/plain": [
       "   Fresh  Milk  Grocery  Frozen  Detergents_Paper  Delicatessen\n",
       "0  12669  9656     7561     214              2674          1338\n",
       "1   7057  9810     9568    1762              3293          1776\n",
       "2   6353  8808     7684    2405              3516          7844\n",
       "3  13265  1196     4221    6404               507          1788\n",
       "4  22615  5410     7198    3915              1777          5185"
      ]
     },
     "execution_count": 2,
     "metadata": {},
     "output_type": "execute_result"
    }
   ],
   "source": [
    "import pandas as pd\n",
    "\n",
    "df = pd.read_csv(\"sysco.csv\")\n",
    "\n",
    "df.head()"
   ]
  },
  {
   "cell_type": "markdown",
   "metadata": {},
   "source": [
    "### = Reminder: Scale and Remove Outliers...\n",
    "- Just a reminder...\n",
    "- The data has been scaled to a more normal distribution using the log function.\n",
    "- The data has had necessary outliers removed."
   ]
  },
  {
   "cell_type": "markdown",
   "metadata": {},
   "source": [
    "### = Principal Component Analysis (PCA)...\n",
    "- [PCA Tranformation Interactive Demo](http://setosa.io/ev/principal-component-analysis/)\n",
    "- PCA can help us draw conclusions about the underlying structure in a dataset. \n",
    "- It **rotates the axis** of the original dimensions in a way that maximizes the variance .\n",
    "- It will also **report variance within the data** is explained by each dimension alone. (explained through variance ratio)\n",
    "- It can then compounds the linear combinations it finds into a new dimension. This **new component (dimension)** can be considered a new \"feature\" of the space, however it is a composition of the original features present in the data."
   ]
  },
  {
   "cell_type": "code",
   "execution_count": 7,
   "metadata": {
    "collapsed": false
   },
   "outputs": [
    {
     "data": {
      "text/html": [
       "<div>\n",
       "<table border=\"1\" class=\"dataframe\">\n",
       "  <thead>\n",
       "    <tr style=\"text-align: right;\">\n",
       "      <th></th>\n",
       "      <th>Explained Variance</th>\n",
       "      <th>Fresh</th>\n",
       "      <th>Milk</th>\n",
       "      <th>Grocery</th>\n",
       "      <th>Frozen</th>\n",
       "      <th>Detergents_Paper</th>\n",
       "      <th>Delicatessen</th>\n",
       "    </tr>\n",
       "  </thead>\n",
       "  <tbody>\n",
       "    <tr>\n",
       "      <th>Dimension 1</th>\n",
       "      <td>0.4596</td>\n",
       "      <td>-0.9765</td>\n",
       "      <td>-0.1212</td>\n",
       "      <td>-0.0615</td>\n",
       "      <td>-0.1524</td>\n",
       "      <td>0.0071</td>\n",
       "      <td>-0.0681</td>\n",
       "    </tr>\n",
       "    <tr>\n",
       "      <th>Dimension 2</th>\n",
       "      <td>0.4052</td>\n",
       "      <td>-0.1106</td>\n",
       "      <td>0.5158</td>\n",
       "      <td>0.7646</td>\n",
       "      <td>-0.0187</td>\n",
       "      <td>0.3654</td>\n",
       "      <td>0.0571</td>\n",
       "    </tr>\n",
       "    <tr>\n",
       "      <th>Dimension 3</th>\n",
       "      <td>0.0700</td>\n",
       "      <td>-0.1786</td>\n",
       "      <td>0.5099</td>\n",
       "      <td>-0.2758</td>\n",
       "      <td>0.7142</td>\n",
       "      <td>-0.2044</td>\n",
       "      <td>0.2832</td>\n",
       "    </tr>\n",
       "    <tr>\n",
       "      <th>Dimension 4</th>\n",
       "      <td>0.0440</td>\n",
       "      <td>-0.0419</td>\n",
       "      <td>-0.6456</td>\n",
       "      <td>0.3755</td>\n",
       "      <td>0.6463</td>\n",
       "      <td>0.1494</td>\n",
       "      <td>-0.0204</td>\n",
       "    </tr>\n",
       "    <tr>\n",
       "      <th>Dimension 5</th>\n",
       "      <td>0.0150</td>\n",
       "      <td>0.0160</td>\n",
       "      <td>0.2032</td>\n",
       "      <td>-0.1603</td>\n",
       "      <td>0.2202</td>\n",
       "      <td>0.2079</td>\n",
       "      <td>-0.9171</td>\n",
       "    </tr>\n",
       "    <tr>\n",
       "      <th>Dimension 6</th>\n",
       "      <td>0.0061</td>\n",
       "      <td>-0.0158</td>\n",
       "      <td>0.0335</td>\n",
       "      <td>0.4109</td>\n",
       "      <td>-0.0133</td>\n",
       "      <td>-0.8713</td>\n",
       "      <td>-0.2654</td>\n",
       "    </tr>\n",
       "  </tbody>\n",
       "</table>\n",
       "</div>"
      ],
      "text/plain": [
       "             Explained Variance   Fresh    Milk  Grocery  Frozen  \\\n",
       "Dimension 1              0.4596 -0.9765 -0.1212  -0.0615 -0.1524   \n",
       "Dimension 2              0.4052 -0.1106  0.5158   0.7646 -0.0187   \n",
       "Dimension 3              0.0700 -0.1786  0.5099  -0.2758  0.7142   \n",
       "Dimension 4              0.0440 -0.0419 -0.6456   0.3755  0.6463   \n",
       "Dimension 5              0.0150  0.0160  0.2032  -0.1603  0.2202   \n",
       "Dimension 6              0.0061 -0.0158  0.0335   0.4109 -0.0133   \n",
       "\n",
       "             Detergents_Paper  Delicatessen  \n",
       "Dimension 1            0.0071       -0.0681  \n",
       "Dimension 2            0.3654        0.0571  \n",
       "Dimension 3           -0.2044        0.2832  \n",
       "Dimension 4            0.1494       -0.0204  \n",
       "Dimension 5            0.2079       -0.9171  \n",
       "Dimension 6           -0.8713       -0.2654  "
      ]
     },
     "execution_count": 7,
     "metadata": {},
     "output_type": "execute_result"
    },
    {
     "data": {
      "image/png": "[encoded data removed]",
      "text/plain": [
       "<matplotlib.figure.Figure at 0x118d76ed0>"
      ]
     },
     "metadata": {},
     "output_type": "display_data"
    }
   ],
   "source": [
    "%matplotlib inline\n",
    "\n",
    "from sklearn.decomposition import PCA\n",
    "import renders as rs\n",
    "\n",
    "# Fit a PCA classifier with the same number of dimensions as features\n",
    "pca = PCA(n_components=6)\n",
    "pca = pca.fit(df)\n",
    "\n",
    "# Generate PCA results plot\n",
    "pca_results = rs.pca_results(df, pca)\n",
    "pca_results"
   ]
  },
  {
   "cell_type": "markdown",
   "metadata": {},
   "source": [
    "### = My Interpretation of Results...\n",
    "- Rows: PCA dimensions that express a percent of data's overall variability.\n",
    "- Columns: Dimension specific category correlation between the \"variation of the entire category before PCA as calculated by range\" and the \"variation of the specific dimensions category range\"\n",
    "\n",
    "### New PCA Questions\n",
    "Q1. When interpreting PCA, should I think of a specific dimension's \"Explained Variance\" (row) as something that weights the correlation to each product? Like is “fresh” in dimension 1 way more important that \"Fresh\" in dimension 3 because the explained variance is very different?\n",
    "\n",
    "Q2. If I tood the range for each feature, and added all 6 ranges together would I get \"overall variability? Assuming that is true, is it the case that now each dimension now hold a different portion of that overall variability and that is what the \"Explained Variance\" means?\n",
    "\n",
    "Q3. Because D3's 'Frozen' category returned the highest value overall (0.7142) does that mean if the company got a new customer and they bought only 100 dollars of \"frozen\" and nothing else, that 73% of the impact that number had on variance would be explained by D3's \"Explained Variance\"?\n",
    "\n",
    "\n",
    "\n",
    "### Previous Instructor Comments\n",
    "- The PCA dimensions express variation (row) in customer spending and are correlated (column)to the original category data\n",
    "- A positive weight in a category (correlation column) means the the value of that dimension increases as a customer's spending in that category increases (and a negative weight means the component decreases as a customer's spending increases). The size of the weight indicates the relative size of the increase or decrease.\n",
    "- For example, the first component shows that we have a lot of variance in customers who purchase Milk, Grocery and Detergents_Paper -- some purchase a lot while others purchase very little.\n",
    "- A principal component with feature weights that have opposite directions can reveal how customers buy more in one category while they buy less in the other category (and, vice versa) — a customer that has a large positive value for a component with opposite weights buys a lot of the positive-weighted feature but not much of the negative-weighted feature. A customer that has a large negative value in the dimension buys in the opposite proportions."
   ]
  },
  {
   "cell_type": "markdown",
   "metadata": {},
   "source": [
    "\n",
    "#### + Guessing at Dimensions...\n",
    "- It's very hard to know how many dimensions to use. "
   ]
  },
  {
   "cell_type": "code",
   "execution_count": 4,
   "metadata": {
    "collapsed": true
   },
   "outputs": [],
   "source": [
    "# pca = PCA(n_components=10)\n",
    "# pca = PCA(n_components=6)\n",
    "# pca = PCA(n_components=5)\n",
    "# pca = PCA(n_components=3)\n",
    "# pca = PCA(n_components=2)"
   ]
  },
  {
   "cell_type": "markdown",
   "metadata": {},
   "source": [
    "#### + Dominate Dimensions (Variance)...\n",
    "- Most of the variance in this data set is explained by the first two principal components.\n",
    "- Note that you can print the **proportion of variance** explained by each component as follows:"
   ]
  },
  {
   "cell_type": "code",
   "execution_count": 5,
   "metadata": {
    "collapsed": false
   },
   "outputs": [
    {
     "name": "stdout",
     "output_type": "stream",
     "text": [
      "[ 0.45961362  0.40517227  0.07003008  0.04402344  0.01502212  0.00613848]\n"
     ]
    }
   ],
   "source": [
    "import numpy as np\n",
    "\n",
    "print(pca.explained_variance_/np.sum(pca.explained_variance_))"
   ]
  },
  {
   "cell_type": "markdown",
   "metadata": {},
   "source": [
    "#### + Dominate Features (Correlations)...\n",
    "-  In addition, please make sure to list the dominant features in each of the first four principal components.\n",
    "- Remember, the dominant features in a given component are those associated to the scalar value of highest absolute value. \n",
    "  - D1: Fresh (-0.9765)\n",
    "  - D2: Grocery (0.7646)\n",
    "  - D3: Frozen (0.7142)\n",
    "  - D4: Frozen (0.6463)"
   ]
  },
  {
   "cell_type": "markdown",
   "metadata": {},
   "source": [
    "#### + Instructor Example...\n",
    "- \"The first principal component is made up of large positive weights in Detergents_Paper, and lesser but still sizeable positive weights on Grocery and Milk. It also correlates with a decrease in Fresh and Frozen. This might represent spending in household staples products that are purchased together.\""
   ]
  },
  {
   "cell_type": "markdown",
   "metadata": {},
   "source": [
    "### = Explain What the Principal Components Measure...\n",
    "- Based on the dominant features, make sure to provide an idea of what each of the first four principal components measure.\n",
    "- A principal component with dominant features that differ in their sign serves to identify customers that purchase a lot of the first category but little of the second as well as customers that buy a lot of the second category but little of the first one\n",
    "  - D1: The first principal component explains much of the overall variance in our data set. In addition it shows a strong dominant negative feature of “Fresh” which means it found a set of customers who buy everything else but skip the “Fresh” category.\n",
    "  - D2: The second dimension has “Grocery” as a dominate feature and shows us that customers who buy lots of “Groceries” also tend to buy lots of “Milk”. \n",
    "  - D3: As opposed to D2, D3 is composed of customers who buy lots of “Frozen” and “Milk”. This dimension show little overall variance however when compared to D1 and D2. \n",
    "  - D4: This dimension show an extreme differences between “Frozen” and “Milk”, “Frozen” being the dominate feature in the positive direction and “Milk” being a near dominate feature in negative direction. This tells us that the 4th dimension found customers that who buy lots of “Frozen” but buy very little “Milk”.  "
   ]
  },
  {
   "cell_type": "code",
   "execution_count": 11,
   "metadata": {
    "collapsed": false
   },
   "outputs": [],
   "source": [
    "# Fit a PCA classifier with 2 dimensions\n",
    "pca_reduce = PCA(n_components=2)\n",
    "pca_reduce = pca.fit(df)"
   ]
  },
  {
   "cell_type": "code",
   "execution_count": 12,
   "metadata": {
    "collapsed": false
   },
   "outputs": [
    {
     "ename": "AttributeError",
     "evalue": "'PCA' object has no attribute '_get_numeric_data'",
     "output_type": "error",
     "traceback": [
      "\u001b[0;31m---------------------------------------------------------------------------\u001b[0m",
      "\u001b[0;31mAttributeError\u001b[0m                            Traceback (most recent call last)",
      "\u001b[0;32m<ipython-input-12-28bc878e0709>\u001b[0m in \u001b[0;36m<module>\u001b[0;34m()\u001b[0m\n\u001b[1;32m      1\u001b[0m \u001b[0;31m# Produce a scatter matrix for pca reduced data\u001b[0m\u001b[0;34m\u001b[0m\u001b[0;34m\u001b[0m\u001b[0m\n\u001b[0;32m----> 2\u001b[0;31m \u001b[0mpd\u001b[0m\u001b[0;34m.\u001b[0m\u001b[0mscatter_matrix\u001b[0m\u001b[0;34m(\u001b[0m\u001b[0mpca_reduce\u001b[0m\u001b[0;34m,\u001b[0m \u001b[0malpha\u001b[0m \u001b[0;34m=\u001b[0m \u001b[0;36m0.3\u001b[0m\u001b[0;34m,\u001b[0m \u001b[0mfigsize\u001b[0m \u001b[0;34m=\u001b[0m \u001b[0;34m(\u001b[0m\u001b[0;36m6\u001b[0m\u001b[0;34m,\u001b[0m\u001b[0;36m6\u001b[0m\u001b[0;34m)\u001b[0m\u001b[0;34m,\u001b[0m \u001b[0mdiagonal\u001b[0m \u001b[0;34m=\u001b[0m \u001b[0;34m'kde'\u001b[0m\u001b[0;34m)\u001b[0m\u001b[0;34m;\u001b[0m\u001b[0;34m\u001b[0m\u001b[0m\n\u001b[0m",
      "\u001b[0;32m/Users/dylanjorgensen/anaconda/envs/py27/lib/python2.7/site-packages/pandas/tools/plotting.pyc\u001b[0m in \u001b[0;36mscatter_matrix\u001b[0;34m(frame, alpha, figsize, ax, grid, diagonal, marker, density_kwds, hist_kwds, range_padding, **kwds)\u001b[0m\n\u001b[1;32m    325\u001b[0m     \u001b[0;32mimport\u001b[0m \u001b[0mmatplotlib\u001b[0m\u001b[0;34m.\u001b[0m\u001b[0mpyplot\u001b[0m \u001b[0;32mas\u001b[0m \u001b[0mplt\u001b[0m\u001b[0;34m\u001b[0m\u001b[0m\n\u001b[1;32m    326\u001b[0m \u001b[0;34m\u001b[0m\u001b[0m\n\u001b[0;32m--> 327\u001b[0;31m     \u001b[0mdf\u001b[0m \u001b[0;34m=\u001b[0m \u001b[0mframe\u001b[0m\u001b[0;34m.\u001b[0m\u001b[0m_get_numeric_data\u001b[0m\u001b[0;34m(\u001b[0m\u001b[0;34m)\u001b[0m\u001b[0;34m\u001b[0m\u001b[0m\n\u001b[0m\u001b[1;32m    328\u001b[0m     \u001b[0mn\u001b[0m \u001b[0;34m=\u001b[0m \u001b[0mdf\u001b[0m\u001b[0;34m.\u001b[0m\u001b[0mcolumns\u001b[0m\u001b[0;34m.\u001b[0m\u001b[0msize\u001b[0m\u001b[0;34m\u001b[0m\u001b[0m\n\u001b[1;32m    329\u001b[0m     \u001b[0mnaxes\u001b[0m \u001b[0;34m=\u001b[0m \u001b[0mn\u001b[0m \u001b[0;34m*\u001b[0m \u001b[0mn\u001b[0m\u001b[0;34m\u001b[0m\u001b[0m\n",
      "\u001b[0;31mAttributeError\u001b[0m: 'PCA' object has no attribute '_get_numeric_data'"
     ]
    }
   ],
   "source": [
    "# Produce a scatter matrix for pca reduced data\n",
    "pd.scatter_matrix(pca_reduce, alpha = 0.3, figsize = (6,6), diagonal = 'kde');"
   ]
  }
 ],
 "metadata": {
  "kernelspec": {
   "display_name": "Python 2",
   "language": "python",
   "name": "python2"
  },
  "language_info": {
   "codemirror_mode": {
    "name": "ipython",
    "version": 2
   },
   "file_extension": ".py",
   "mimetype": "text/x-python",
   "name": "python",
   "nbconvert_exporter": "python",
   "pygments_lexer": "ipython2",
   "version": "2.7.11"
  }
 },
 "nbformat": 4,
 "nbformat_minor": 0
}
