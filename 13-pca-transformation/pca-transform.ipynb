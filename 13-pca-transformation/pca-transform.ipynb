{
 "cells": [
  {
   "cell_type": "markdown",
   "metadata": {},
   "source": [
    "# PCA Transform"
   ]
  },
  {
   "cell_type": "markdown",
   "metadata": {},
   "source": [
    "### = Read In CSV..."
   ]
  },
  {
   "cell_type": "code",
   "execution_count": 26,
   "metadata": {
    "collapsed": false
   },
   "outputs": [
    {
     "data": {
      "text/html": [
       "<div>\n",
       "<table border=\"1\" class=\"dataframe\">\n",
       "  <thead>\n",
       "    <tr style=\"text-align: right;\">\n",
       "      <th></th>\n",
       "      <th>Fresh</th>\n",
       "      <th>Milk</th>\n",
       "      <th>Grocery</th>\n",
       "      <th>Frozen</th>\n",
       "      <th>Detergents_Paper</th>\n",
       "      <th>Delicatessen</th>\n",
       "    </tr>\n",
       "  </thead>\n",
       "  <tbody>\n",
       "    <tr>\n",
       "      <th>0</th>\n",
       "      <td>12669</td>\n",
       "      <td>9656</td>\n",
       "      <td>7561</td>\n",
       "      <td>214</td>\n",
       "      <td>2674</td>\n",
       "      <td>1338</td>\n",
       "    </tr>\n",
       "    <tr>\n",
       "      <th>1</th>\n",
       "      <td>7057</td>\n",
       "      <td>9810</td>\n",
       "      <td>9568</td>\n",
       "      <td>1762</td>\n",
       "      <td>3293</td>\n",
       "      <td>1776</td>\n",
       "    </tr>\n",
       "    <tr>\n",
       "      <th>2</th>\n",
       "      <td>6353</td>\n",
       "      <td>8808</td>\n",
       "      <td>7684</td>\n",
       "      <td>2405</td>\n",
       "      <td>3516</td>\n",
       "      <td>7844</td>\n",
       "    </tr>\n",
       "    <tr>\n",
       "      <th>3</th>\n",
       "      <td>13265</td>\n",
       "      <td>1196</td>\n",
       "      <td>4221</td>\n",
       "      <td>6404</td>\n",
       "      <td>507</td>\n",
       "      <td>1788</td>\n",
       "    </tr>\n",
       "    <tr>\n",
       "      <th>4</th>\n",
       "      <td>22615</td>\n",
       "      <td>5410</td>\n",
       "      <td>7198</td>\n",
       "      <td>3915</td>\n",
       "      <td>1777</td>\n",
       "      <td>5185</td>\n",
       "    </tr>\n",
       "  </tbody>\n",
       "</table>\n",
       "</div>"
      ],
      "text/plain": [
       "   Fresh  Milk  Grocery  Frozen  Detergents_Paper  Delicatessen\n",
       "0  12669  9656     7561     214              2674          1338\n",
       "1   7057  9810     9568    1762              3293          1776\n",
       "2   6353  8808     7684    2405              3516          7844\n",
       "3  13265  1196     4221    6404               507          1788\n",
       "4  22615  5410     7198    3915              1777          5185"
      ]
     },
     "execution_count": 26,
     "metadata": {},
     "output_type": "execute_result"
    }
   ],
   "source": [
    "import pandas as pd\n",
    "\n",
    "df = pd.read_csv(\"sysco.csv\")\n",
    "\n",
    "df.head()"
   ]
  },
  {
   "cell_type": "markdown",
   "metadata": {},
   "source": [
    "### = Scale By Log...\n",
    "- Just a reminder...\n",
    "- The data has been scaled to a more normal distribution using the log function.\n",
    "- The data has had necessary outliers removed."
   ]
  },
  {
   "cell_type": "code",
   "execution_count": 28,
   "metadata": {
    "collapsed": false
   },
   "outputs": [
    {
     "data": {
      "text/html": [
       "<div>\n",
       "<table border=\"1\" class=\"dataframe\">\n",
       "  <thead>\n",
       "    <tr style=\"text-align: right;\">\n",
       "      <th></th>\n",
       "      <th>Fresh</th>\n",
       "      <th>Milk</th>\n",
       "      <th>Grocery</th>\n",
       "      <th>Frozen</th>\n",
       "      <th>Detergents_Paper</th>\n",
       "      <th>Delicatessen</th>\n",
       "    </tr>\n",
       "  </thead>\n",
       "  <tbody>\n",
       "    <tr>\n",
       "      <th>0</th>\n",
       "      <td>2.245688</td>\n",
       "      <td>2.216519</td>\n",
       "      <td>2.189501</td>\n",
       "      <td>1.680078</td>\n",
       "      <td>2.065765</td>\n",
       "      <td>1.973933</td>\n",
       "    </tr>\n",
       "    <tr>\n",
       "      <th>1</th>\n",
       "      <td>2.181747</td>\n",
       "      <td>2.218242</td>\n",
       "      <td>2.215521</td>\n",
       "      <td>2.011458</td>\n",
       "      <td>2.091809</td>\n",
       "      <td>2.012516</td>\n",
       "    </tr>\n",
       "    <tr>\n",
       "      <th>2</th>\n",
       "      <td>2.169817</td>\n",
       "      <td>2.206450</td>\n",
       "      <td>2.191307</td>\n",
       "      <td>2.052238</td>\n",
       "      <td>2.099866</td>\n",
       "      <td>2.193607</td>\n",
       "    </tr>\n",
       "    <tr>\n",
       "      <th>3</th>\n",
       "      <td>2.250542</td>\n",
       "      <td>1.958225</td>\n",
       "      <td>2.122001</td>\n",
       "      <td>2.170730</td>\n",
       "      <td>1.829137</td>\n",
       "      <td>2.013416</td>\n",
       "    </tr>\n",
       "    <tr>\n",
       "      <th>4</th>\n",
       "      <td>2.305218</td>\n",
       "      <td>2.151297</td>\n",
       "      <td>2.183977</td>\n",
       "      <td>2.112945</td>\n",
       "      <td>2.012591</td>\n",
       "      <td>2.146343</td>\n",
       "    </tr>\n",
       "  </tbody>\n",
       "</table>\n",
       "</div>"
      ],
      "text/plain": [
       "      Fresh      Milk   Grocery    Frozen  Detergents_Paper  Delicatessen\n",
       "0  2.245688  2.216519  2.189501  1.680078          2.065765      1.973933\n",
       "1  2.181747  2.218242  2.215521  2.011458          2.091809      2.012516\n",
       "2  2.169817  2.206450  2.191307  2.052238          2.099866      2.193607\n",
       "3  2.250542  1.958225  2.122001  2.170730          1.829137      2.013416\n",
       "4  2.305218  2.151297  2.183977  2.112945          2.012591      2.146343"
      ]
     },
     "execution_count": 28,
     "metadata": {},
     "output_type": "execute_result"
    }
   ],
   "source": [
    "import numpy as np\n",
    "\n",
    "df = np.log(df)\n",
    "df.head()"
   ]
  },
  {
   "cell_type": "markdown",
   "metadata": {},
   "source": [
    "# PCA Transform...\n",
    "- [PCA Tranformation Interactive Demo](http://setosa.io/ev/principal-component-analysis/)\n",
    "- Here we are using PCA to reduce 6 dimensions of data down to 2. "
   ]
  },
  {
   "cell_type": "code",
   "execution_count": 52,
   "metadata": {
    "collapsed": false
   },
   "outputs": [
    {
     "data": {
      "text/html": [
       "<div>\n",
       "<table border=\"1\" class=\"dataframe\">\n",
       "  <thead>\n",
       "    <tr style=\"text-align: right;\">\n",
       "      <th></th>\n",
       "      <th>0</th>\n",
       "      <th>1</th>\n",
       "    </tr>\n",
       "  </thead>\n",
       "  <tbody>\n",
       "    <tr>\n",
       "      <th>0</th>\n",
       "      <td>0.272160</td>\n",
       "      <td>0.001293</td>\n",
       "    </tr>\n",
       "    <tr>\n",
       "      <th>1</th>\n",
       "      <td>0.285712</td>\n",
       "      <td>0.108435</td>\n",
       "    </tr>\n",
       "    <tr>\n",
       "      <th>2</th>\n",
       "      <td>0.323959</td>\n",
       "      <td>0.251496</td>\n",
       "    </tr>\n",
       "    <tr>\n",
       "      <th>3</th>\n",
       "      <td>-0.063184</td>\n",
       "      <td>0.238596</td>\n",
       "    </tr>\n",
       "    <tr>\n",
       "      <th>4</th>\n",
       "      <td>0.207194</td>\n",
       "      <td>0.322409</td>\n",
       "    </tr>\n",
       "  </tbody>\n",
       "</table>\n",
       "</div>"
      ],
      "text/plain": [
       "          0         1\n",
       "0  0.272160  0.001293\n",
       "1  0.285712  0.108435\n",
       "2  0.323959  0.251496\n",
       "3 -0.063184  0.238596\n",
       "4  0.207194  0.322409"
      ]
     },
     "execution_count": 52,
     "metadata": {},
     "output_type": "execute_result"
    }
   ],
   "source": [
    "%matplotlib inline\n",
    "\n",
    "from sklearn.decomposition import PCA\n",
    "\n",
    "# Fit a PCA classifier with the same number of dimensions as features\n",
    "pca = PCA(n_components=2)\n",
    "pca.fit(df)\n",
    "\n",
    "transformed_pca = pca.transform(df)\n",
    "\n",
    "transformed_df = pd.DataFrame(transformed_pca)\n",
    "\n",
    "transformed_df.head()"
   ]
  },
  {
   "cell_type": "markdown",
   "metadata": {},
   "source": [
    "### - 2D Visualization...\n",
    "- If we look at a scatter matrix of the data after reducing to 2 dimensions, we can see that two humps in Dimension 1 that seem to indicate the presence of two distinct groups within the distribution. Remember, the 1st pca component generally correlates with spending in Milk, Grocery, Detergents_Paper."
   ]
  },
  {
   "cell_type": "code",
   "execution_count": 55,
   "metadata": {
    "collapsed": false
   },
   "outputs": [
    {
     "data": {
      "text/plain": [
       "array([[<matplotlib.axes._subplots.AxesSubplot object at 0x11cc330d0>,\n",
       "        <matplotlib.axes._subplots.AxesSubplot object at 0x11ccbba10>],\n",
       "       [<matplotlib.axes._subplots.AxesSubplot object at 0x11cdd03d0>,\n",
       "        <matplotlib.axes._subplots.AxesSubplot object at 0x11cf59a50>]], dtype=object)"
      ]
     },
     "execution_count": 55,
     "metadata": {},
     "output_type": "execute_result"
    },
    {
     "data": {
      "image/png": "[encoded data removed]",
      "text/plain": [
       "<matplotlib.figure.Figure at 0x11c5ac150>"
      ]
     },
     "metadata": {},
     "output_type": "display_data"
    }
   ],
   "source": [
    "pd.scatter_matrix(transformed_df, alpha=0.3, figsize = (6,4), diagonal='kde')"
   ]
  },
  {
   "cell_type": "markdown",
   "metadata": {},
   "source": [
    "### = Inverse: PCA Transform...\n",
    "- Since the data is currently reduced in dimension and scaled by a logarithm, we can recover the representative customer spending from these data points by applying the inverse transformations.\n",
    "- Remember, transform first, exponentiate second."
   ]
  },
  {
   "cell_type": "code",
   "execution_count": 57,
   "metadata": {
    "collapsed": false
   },
   "outputs": [
    {
     "data": {
      "text/html": [
       "<div>\n",
       "<table border=\"1\" class=\"dataframe\">\n",
       "  <thead>\n",
       "    <tr style=\"text-align: right;\">\n",
       "      <th></th>\n",
       "      <th>Fresh</th>\n",
       "      <th>Milk</th>\n",
       "      <th>Grocery</th>\n",
       "      <th>Frozen</th>\n",
       "      <th>Detergents_Paper</th>\n",
       "      <th>Delicatessen</th>\n",
       "    </tr>\n",
       "  </thead>\n",
       "  <tbody>\n",
       "    <tr>\n",
       "      <th>Segment 0</th>\n",
       "      <td>2.132041</td>\n",
       "      <td>2.165744</td>\n",
       "      <td>2.225828</td>\n",
       "      <td>1.945210</td>\n",
       "      <td>2.101207</td>\n",
       "      <td>1.941357</td>\n",
       "    </tr>\n",
       "    <tr>\n",
       "      <th>Segment 1</th>\n",
       "      <td>2.189420</td>\n",
       "      <td>2.172917</td>\n",
       "      <td>2.223412</td>\n",
       "      <td>1.982217</td>\n",
       "      <td>2.097627</td>\n",
       "      <td>2.024611</td>\n",
       "    </tr>\n",
       "    <tr>\n",
       "      <th>Segment 2</th>\n",
       "      <td>2.264981</td>\n",
       "      <td>2.188461</td>\n",
       "      <td>2.227855</td>\n",
       "      <td>2.029690</td>\n",
       "      <td>2.109544</td>\n",
       "      <td>2.141070</td>\n",
       "    </tr>\n",
       "    <tr>\n",
       "      <th>Segment 3</th>\n",
       "      <td>2.278211</td>\n",
       "      <td>2.073474</td>\n",
       "      <td>2.081414</td>\n",
       "      <td>2.062366</td>\n",
       "      <td>1.790571</td>\n",
       "      <td>2.029749</td>\n",
       "    </tr>\n",
       "    <tr>\n",
       "      <th>Segment 4</th>\n",
       "      <td>2.309526</td>\n",
       "      <td>2.155987</td>\n",
       "      <td>2.178399</td>\n",
       "      <td>2.066294</td>\n",
       "      <td>2.003002</td>\n",
       "      <td>2.163134</td>\n",
       "    </tr>\n",
       "  </tbody>\n",
       "</table>\n",
       "</div>"
      ],
      "text/plain": [
       "              Fresh      Milk   Grocery    Frozen  Detergents_Paper  \\\n",
       "Segment 0  2.132041  2.165744  2.225828  1.945210          2.101207   \n",
       "Segment 1  2.189420  2.172917  2.223412  1.982217          2.097627   \n",
       "Segment 2  2.264981  2.188461  2.227855  2.029690          2.109544   \n",
       "Segment 3  2.278211  2.073474  2.081414  2.062366          1.790571   \n",
       "Segment 4  2.309526  2.155987  2.178399  2.066294          2.003002   \n",
       "\n",
       "           Delicatessen  \n",
       "Segment 0      1.941357  \n",
       "Segment 1      2.024611  \n",
       "Segment 2      2.141070  \n",
       "Segment 3      2.029749  \n",
       "Segment 4      2.163134  "
      ]
     },
     "execution_count": 57,
     "metadata": {},
     "output_type": "execute_result"
    }
   ],
   "source": [
    "# Inverse transform\n",
    "returned_df = pca.inverse_transform(transformed_df)\n",
    "\n",
    "# Return inverse transform data to a DataFrame\n",
    "returned_df = pd.DataFrame(returned_df, columns=df.keys())\n",
    "\n",
    "# Update the DataFrames Index with a dimension labels\n",
    "segments = ['Segment {}'.format(i) for i in range(0,len(returned_df))]\n",
    "returned_df.index = segments\n",
    "\n",
    "returned_df.head()"
   ]
  },
  {
   "cell_type": "markdown",
   "metadata": {},
   "source": [
    "### = Inverse: Log...\n",
    "- Apply the inverse function of np.log to log_centers using np.exp and assign the true centers to true_centers."
   ]
  },
  {
   "cell_type": "code",
   "execution_count": 58,
   "metadata": {
    "collapsed": false
   },
   "outputs": [
    {
     "data": {
      "text/html": [
       "<div>\n",
       "<table border=\"1\" class=\"dataframe\">\n",
       "  <thead>\n",
       "    <tr style=\"text-align: right;\">\n",
       "      <th></th>\n",
       "      <th>Fresh</th>\n",
       "      <th>Milk</th>\n",
       "      <th>Grocery</th>\n",
       "      <th>Frozen</th>\n",
       "      <th>Detergents_Paper</th>\n",
       "      <th>Delicatessen</th>\n",
       "    </tr>\n",
       "  </thead>\n",
       "  <tbody>\n",
       "    <tr>\n",
       "      <th>Segment 0</th>\n",
       "      <td>8.432058</td>\n",
       "      <td>8.721084</td>\n",
       "      <td>9.261147</td>\n",
       "      <td>6.995098</td>\n",
       "      <td>8.176031</td>\n",
       "      <td>6.968199</td>\n",
       "    </tr>\n",
       "    <tr>\n",
       "      <th>Segment 1</th>\n",
       "      <td>8.930029</td>\n",
       "      <td>8.783869</td>\n",
       "      <td>9.238796</td>\n",
       "      <td>7.258819</td>\n",
       "      <td>8.146817</td>\n",
       "      <td>7.573161</td>\n",
       "    </tr>\n",
       "    <tr>\n",
       "      <th>Segment 2</th>\n",
       "      <td>9.630946</td>\n",
       "      <td>8.921472</td>\n",
       "      <td>9.279943</td>\n",
       "      <td>7.611728</td>\n",
       "      <td>8.244485</td>\n",
       "      <td>8.508533</td>\n",
       "    </tr>\n",
       "    <tr>\n",
       "      <th>Segment 3</th>\n",
       "      <td>9.759208</td>\n",
       "      <td>7.952400</td>\n",
       "      <td>8.015792</td>\n",
       "      <td>7.864557</td>\n",
       "      <td>5.992876</td>\n",
       "      <td>7.612177</td>\n",
       "    </tr>\n",
       "    <tr>\n",
       "      <th>Segment 4</th>\n",
       "      <td>10.069651</td>\n",
       "      <td>8.636412</td>\n",
       "      <td>8.832156</td>\n",
       "      <td>7.895511</td>\n",
       "      <td>7.411268</td>\n",
       "      <td>8.698351</td>\n",
       "    </tr>\n",
       "  </tbody>\n",
       "</table>\n",
       "</div>"
      ],
      "text/plain": [
       "               Fresh      Milk   Grocery    Frozen  Detergents_Paper  \\\n",
       "Segment 0   8.432058  8.721084  9.261147  6.995098          8.176031   \n",
       "Segment 1   8.930029  8.783869  9.238796  7.258819          8.146817   \n",
       "Segment 2   9.630946  8.921472  9.279943  7.611728          8.244485   \n",
       "Segment 3   9.759208  7.952400  8.015792  7.864557          5.992876   \n",
       "Segment 4  10.069651  8.636412  8.832156  7.895511          7.411268   \n",
       "\n",
       "           Delicatessen  \n",
       "Segment 0      6.968199  \n",
       "Segment 1      7.573161  \n",
       "Segment 2      8.508533  \n",
       "Segment 3      7.612177  \n",
       "Segment 4      8.698351  "
      ]
     },
     "execution_count": 58,
     "metadata": {},
     "output_type": "execute_result"
    }
   ],
   "source": [
    "# The natural logarithm log is the inverse of the exponential function, so that log(exp(x)) = x. \n",
    "exp_data = np.exp(returned_df)\n",
    "exp_data.head()"
   ]
  }
 ],
 "metadata": {
  "kernelspec": {
   "display_name": "Python 2",
   "language": "python",
   "name": "python2"
  },
  "language_info": {
   "codemirror_mode": {
    "name": "ipython",
    "version": 2
   },
   "file_extension": ".py",
   "mimetype": "text/x-python",
   "name": "python",
   "nbconvert_exporter": "python",
   "pygments_lexer": "ipython2",
   "version": "2.7.11"
  }
 },
 "nbformat": 4,
 "nbformat_minor": 0
}
