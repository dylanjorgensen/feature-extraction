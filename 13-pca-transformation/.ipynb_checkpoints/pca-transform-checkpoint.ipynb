{
 "cells": [
  {
   "cell_type": "markdown",
   "metadata": {},
   "source": [
    "# PCA Transform"
   ]
  },
  {
   "cell_type": "markdown",
   "metadata": {},
   "source": [
    "### = Read In CSV..."
   ]
  },
  {
   "cell_type": "code",
   "execution_count": 28,
   "metadata": {
    "collapsed": false
   },
   "outputs": [
    {
     "data": {
      "text/html": [
       "<div>\n",
       "<table border=\"1\" class=\"dataframe\">\n",
       "  <thead>\n",
       "    <tr style=\"text-align: right;\">\n",
       "      <th></th>\n",
       "      <th>Fresh</th>\n",
       "      <th>Milk</th>\n",
       "      <th>Grocery</th>\n",
       "      <th>Frozen</th>\n",
       "      <th>Detergents_Paper</th>\n",
       "      <th>Delicatessen</th>\n",
       "    </tr>\n",
       "  </thead>\n",
       "  <tbody>\n",
       "    <tr>\n",
       "      <th>0</th>\n",
       "      <td>12669</td>\n",
       "      <td>9656</td>\n",
       "      <td>7561</td>\n",
       "      <td>214</td>\n",
       "      <td>2674</td>\n",
       "      <td>1338</td>\n",
       "    </tr>\n",
       "    <tr>\n",
       "      <th>1</th>\n",
       "      <td>7057</td>\n",
       "      <td>9810</td>\n",
       "      <td>9568</td>\n",
       "      <td>1762</td>\n",
       "      <td>3293</td>\n",
       "      <td>1776</td>\n",
       "    </tr>\n",
       "    <tr>\n",
       "      <th>2</th>\n",
       "      <td>6353</td>\n",
       "      <td>8808</td>\n",
       "      <td>7684</td>\n",
       "      <td>2405</td>\n",
       "      <td>3516</td>\n",
       "      <td>7844</td>\n",
       "    </tr>\n",
       "    <tr>\n",
       "      <th>3</th>\n",
       "      <td>13265</td>\n",
       "      <td>1196</td>\n",
       "      <td>4221</td>\n",
       "      <td>6404</td>\n",
       "      <td>507</td>\n",
       "      <td>1788</td>\n",
       "    </tr>\n",
       "    <tr>\n",
       "      <th>4</th>\n",
       "      <td>22615</td>\n",
       "      <td>5410</td>\n",
       "      <td>7198</td>\n",
       "      <td>3915</td>\n",
       "      <td>1777</td>\n",
       "      <td>5185</td>\n",
       "    </tr>\n",
       "  </tbody>\n",
       "</table>\n",
       "</div>"
      ],
      "text/plain": [
       "   Fresh  Milk  Grocery  Frozen  Detergents_Paper  Delicatessen\n",
       "0  12669  9656     7561     214              2674          1338\n",
       "1   7057  9810     9568    1762              3293          1776\n",
       "2   6353  8808     7684    2405              3516          7844\n",
       "3  13265  1196     4221    6404               507          1788\n",
       "4  22615  5410     7198    3915              1777          5185"
      ]
     },
     "execution_count": 28,
     "metadata": {},
     "output_type": "execute_result"
    }
   ],
   "source": [
    "import pandas as pd\n",
    "\n",
    "df = pd.read_csv(\"sysco.csv\")\n",
    "\n",
    "df.head()"
   ]
  },
  {
   "cell_type": "markdown",
   "metadata": {},
   "source": [
    "### = Reminder: Scale and Remove Outliers...\n",
    "- Just a reminder...\n",
    "- The data has been scaled to a more normal distribution using the log function.\n",
    "- The data has had necessary outliers removed."
   ]
  },
  {
   "cell_type": "code",
   "execution_count": 29,
   "metadata": {
    "collapsed": false
   },
   "outputs": [
    {
     "data": {
      "text/html": [
       "<div>\n",
       "<table border=\"1\" class=\"dataframe\">\n",
       "  <thead>\n",
       "    <tr style=\"text-align: right;\">\n",
       "      <th></th>\n",
       "      <th>Fresh</th>\n",
       "      <th>Milk</th>\n",
       "      <th>Grocery</th>\n",
       "      <th>Frozen</th>\n",
       "      <th>Detergents_Paper</th>\n",
       "      <th>Delicatessen</th>\n",
       "    </tr>\n",
       "  </thead>\n",
       "  <tbody>\n",
       "    <tr>\n",
       "      <th>0</th>\n",
       "      <td>9.446913</td>\n",
       "      <td>9.175335</td>\n",
       "      <td>8.930759</td>\n",
       "      <td>5.365976</td>\n",
       "      <td>7.891331</td>\n",
       "      <td>7.198931</td>\n",
       "    </tr>\n",
       "    <tr>\n",
       "      <th>1</th>\n",
       "      <td>8.861775</td>\n",
       "      <td>9.191158</td>\n",
       "      <td>9.166179</td>\n",
       "      <td>7.474205</td>\n",
       "      <td>8.099554</td>\n",
       "      <td>7.482119</td>\n",
       "    </tr>\n",
       "    <tr>\n",
       "      <th>2</th>\n",
       "      <td>8.756682</td>\n",
       "      <td>9.083416</td>\n",
       "      <td>8.946896</td>\n",
       "      <td>7.785305</td>\n",
       "      <td>8.165079</td>\n",
       "      <td>8.967504</td>\n",
       "    </tr>\n",
       "    <tr>\n",
       "      <th>3</th>\n",
       "      <td>9.492884</td>\n",
       "      <td>7.086738</td>\n",
       "      <td>8.347827</td>\n",
       "      <td>8.764678</td>\n",
       "      <td>6.228511</td>\n",
       "      <td>7.488853</td>\n",
       "    </tr>\n",
       "    <tr>\n",
       "      <th>4</th>\n",
       "      <td>10.026369</td>\n",
       "      <td>8.596004</td>\n",
       "      <td>8.881558</td>\n",
       "      <td>8.272571</td>\n",
       "      <td>7.482682</td>\n",
       "      <td>8.553525</td>\n",
       "    </tr>\n",
       "  </tbody>\n",
       "</table>\n",
       "</div>"
      ],
      "text/plain": [
       "       Fresh      Milk   Grocery    Frozen  Detergents_Paper  Delicatessen\n",
       "0   9.446913  9.175335  8.930759  5.365976          7.891331      7.198931\n",
       "1   8.861775  9.191158  9.166179  7.474205          8.099554      7.482119\n",
       "2   8.756682  9.083416  8.946896  7.785305          8.165079      8.967504\n",
       "3   9.492884  7.086738  8.347827  8.764678          6.228511      7.488853\n",
       "4  10.026369  8.596004  8.881558  8.272571          7.482682      8.553525"
      ]
     },
     "execution_count": 29,
     "metadata": {},
     "output_type": "execute_result"
    }
   ],
   "source": [
    "df = np.log(df)\n",
    "df.head()"
   ]
  },
  {
   "cell_type": "markdown",
   "metadata": {},
   "source": [
    "### = Transform...\n",
    "- [PCA Tranformation Interactive Demo](http://setosa.io/ev/principal-component-analysis/)"
   ]
  },
  {
   "cell_type": "code",
   "execution_count": 30,
   "metadata": {
    "collapsed": false
   },
   "outputs": [
    {
     "data": {
      "text/plain": [
       "array([[ 1.75098532,  0.07051523],\n",
       "       [ 1.80036534,  0.86975357],\n",
       "       [ 1.89373597,  1.67662072],\n",
       "       [-1.12731297,  1.45798229],\n",
       "       [ 0.79671147,  2.46086569],\n",
       "       [ 1.0838237 ,  0.39294243],\n",
       "       [ 1.13261002, -0.20160186],\n",
       "       [ 1.58247377,  0.96819642],\n",
       "       [ 0.87182521, -0.5967589 ],\n",
       "       [ 2.88888315,  0.74110252]])"
      ]
     },
     "execution_count": 30,
     "metadata": {},
     "output_type": "execute_result"
    }
   ],
   "source": [
    "%matplotlib inline\n",
    "\n",
    "from sklearn.decomposition import PCA\n",
    "\n",
    "# Fit a PCA classifier with the same number of dimensions as features\n",
    "pca = PCA(n_components=2)\n",
    "pca.fit(df)\n",
    "\n",
    "trans = pca.transform(df)\n",
    "trans[:10]"
   ]
  },
  {
   "cell_type": "markdown",
   "metadata": {},
   "source": [
    "### - 2D Reduction...\n",
    "- If we look at a scatter matrix of the data after reducing to 2 dimensions, we can see that two humps in Dimension 1 that seem to indicate the presence of two distinct groups within the distribution. Remember, the 1st pca component generally correlates with spending in Milk, Grocery, Detergents_Paper."
   ]
  },
  {
   "cell_type": "code",
   "execution_count": 32,
   "metadata": {
    "collapsed": false
   },
   "outputs": [
    {
     "data": {
      "text/plain": [
       "array([[<matplotlib.axes._subplots.AxesSubplot object at 0x11ba9de80>,\n",
       "        <matplotlib.axes._subplots.AxesSubplot object at 0x11bcad048>],\n",
       "       [<matplotlib.axes._subplots.AxesSubplot object at 0x11bcf6240>,\n",
       "        <matplotlib.axes._subplots.AxesSubplot object at 0x11bd6b3c8>]], dtype=object)"
      ]
     },
     "execution_count": 32,
     "metadata": {},
     "output_type": "execute_result"
    },
    {
     "data": {
      "image/png": "[encoded data removed]",
      "text/plain": [
       "<matplotlib.figure.Figure at 0x119bc8b00>"
      ]
     },
     "metadata": {},
     "output_type": "display_data"
    }
   ],
   "source": [
    "trans_df = pd.DataFrame(trans)\n",
    "scatter_matrix(trans_df, alpha=0.3, figsize = (6,4), diagonal='kde')"
   ]
  },
  {
   "cell_type": "markdown",
   "metadata": {},
   "source": [
    "# PCA Inverse Transformation\n",
    "- Each cluster present in the visualization above has a central point. These centers (or means) are not specifically data points from the data, but rather the *averages* of all the data points predicted in the respective clusters. For the problem of creating customer segments, a cluster's center point corresponds to *the average customer of that segment*. Since the data is currently reduced in dimension and scaled by a logarithm, we can recover the representative customer spending from these data points by applying the inverse transformations.\n",
    "\n",
    "In the code block below, you will need to implement the following:\n",
    " - Apply the inverse transform to `centers` using `pca.inverse_transform` and assign the new centers to `log_centers`.\n",
    " - Apply the inverse function of `np.log` to `log_centers` using `np.exp` and assign the true centers to"
   ]
  },
  {
   "cell_type": "code",
   "execution_count": null,
   "metadata": {
    "collapsed": false
   },
   "outputs": [],
   "source": [
    "# Just a reminder the imported module \"renders\" is a Udacity custom build\n",
    "import renders as rs"
   ]
  },
  {
   "cell_type": "markdown",
   "metadata": {},
   "source": [
    "### = Inverse: Centers...\n",
    "- [sklearn.decomposition.PCA](http://scikit-learn.org/stable/modules/generated/sklearn.decomposition.PCA.html)\n",
    " `true_centers`.\n",
    "- We need to use the method: inverse_transform(X)\t# Transforms data back to its original space.\n",
    "- Apply the inverse transform to centers using pca.inverse_transform and assign the new centers to log_centers."
   ]
  },
  {
   "cell_type": "code",
   "execution_count": null,
   "metadata": {
    "collapsed": false
   },
   "outputs": [],
   "source": [
    "# TODO: Inverse transform the centers\n",
    "log_centers = pca.inverse_transform(centers)"
   ]
  },
  {
   "cell_type": "markdown",
   "metadata": {},
   "source": [
    "### = Inverse: Log...\n",
    "- Apply the inverse function of np.log to log_centers using np.exp and assign the true centers to true_centers."
   ]
  },
  {
   "cell_type": "code",
   "execution_count": null,
   "metadata": {
    "collapsed": false
   },
   "outputs": [],
   "source": [
    "# TODO: Exponentiate the centers\n",
    "# The natural logarithm log is the inverse of the exponential function, so that log(exp(x)) = x. \n",
    "true_centers = np.exp(log_centers)"
   ]
  },
  {
   "cell_type": "code",
   "execution_count": null,
   "metadata": {
    "collapsed": true
   },
   "outputs": [],
   "source": [
    "# Display the true centers\n",
    "segments = ['Segment {}'.format(i) for i in range(0,len(centers))]\n",
    "true_centers = pd.DataFrame(np.round(true_centers), columns = data.keys())\n",
    "true_centers.index = segments\n",
    "display(true_centers)"
   ]
  }
 ],
 "metadata": {
  "kernelspec": {
   "display_name": "Python 3",
   "language": "python",
   "name": "python3"
  },
  "language_info": {
   "codemirror_mode": {
    "name": "ipython",
    "version": 3
   },
   "file_extension": ".py",
   "mimetype": "text/x-python",
   "name": "python",
   "nbconvert_exporter": "python",
   "pygments_lexer": "ipython3",
   "version": "3.5.1"
  }
 },
 "nbformat": 4,
 "nbformat_minor": 0
}
