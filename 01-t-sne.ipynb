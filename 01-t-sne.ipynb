{
 "cells": [
  {
   "cell_type": "markdown",
   "metadata": {},
   "source": [
    "### Resources:\n",
    "- [TensorFlow - Word2Vec Tutorial](https://www.tensorflow.org/versions/r0.11/tutorials/word2vec/index.html)\n",
    "- [TensorFlow - GitHub](https://github.com/tensorflow/tensorflow/blob/r0.11/tensorflow/examples/tutorials/word2vec/word2vec_basic.py)"
   ]
  },
  {
   "cell_type": "markdown",
   "metadata": {},
   "source": [
    "# Goal\n",
    "- To create a vector based representations of words (embeddings) using the word2vec model."
   ]
  },
  {
   "cell_type": "code",
   "execution_count": 1,
   "metadata": {
    "collapsed": true
   },
   "outputs": [],
   "source": [
    "import tensorflow as tf\n",
    "import collections\n",
    "import operator\n",
    "import numpy as np\n",
    "import random\n",
    "import math\n",
    "\n",
    "from sklearn.manifold import TSNE\n",
    "import matplotlib.pyplot as plt\n",
    "% matplotlib inline"
   ]
  },
  {
   "cell_type": "markdown",
   "metadata": {},
   "source": [
    "# Parameters"
   ]
  },
  {
   "cell_type": "markdown",
   "metadata": {},
   "source": [
    "### Learning Parameters"
   ]
  },
  {
   "cell_type": "code",
   "execution_count": 2,
   "metadata": {
    "collapsed": true
   },
   "outputs": [],
   "source": [
    "LEARNING_RATE = 1.0   # How much we move our gradient parameters per episode\n",
    "EPISODES = 300         # Total episodes\n",
    "PRINT = 50            # Print info every x itteration"
   ]
  },
  {
   "cell_type": "markdown",
   "metadata": {},
   "source": [
    "### Skip-Gram Parameters"
   ]
  },
  {
   "cell_type": "code",
   "execution_count": 3,
   "metadata": {
    "collapsed": true
   },
   "outputs": [],
   "source": [
    "# REMINDER: vocab_size = 9412\n",
    "BATCH_SIZE = 64       # Number of input examples in input matrix (64 x 1)\n",
    "EMBEDDING_SIZE = 128  # Dimension of the embedding vector.\n",
    "SKIP_WINDOW = 1       # How many words to consider left and right.\n",
    "NUM_SKIPS = 2         # How many times to reuse an input to generate a label."
   ]
  },
  {
   "cell_type": "markdown",
   "metadata": {},
   "source": [
    "### Validation Parameters\n",
    "- We pick a random validation set to sample nearest neighbors.\n",
    "- Here we limit the validation samples to the words that have a low numeric ID, which by construction are also the most frequent."
   ]
  },
  {
   "cell_type": "code",
   "execution_count": 4,
   "metadata": {
    "collapsed": true
   },
   "outputs": [],
   "source": [
    "VALID_SIZE = 16     # Random set of words to evaluate similarity on.\n",
    "VALID_WINDOW = 100  # Only pick dev samples in the head of the distribution.\n",
    "NUM_SAMPLED = 64    # Number of negative examples to sample.\n",
    "\n",
    "valid_examples = np.random.choice(VALID_WINDOW, VALID_SIZE, replace=False)"
   ]
  },
  {
   "cell_type": "markdown",
   "metadata": {},
   "source": [
    "# Data"
   ]
  },
  {
   "cell_type": "markdown",
   "metadata": {},
   "source": [
    "### Import"
   ]
  },
  {
   "cell_type": "code",
   "execution_count": 5,
   "metadata": {
    "collapsed": false
   },
   "outputs": [
    {
     "data": {
      "text/plain": [
       "\" The Battle of the Nile. Two naval officers were disputing as to the importance of Lord Nelson's vic\""
      ]
     },
     "execution_count": 5,
     "metadata": {},
     "output_type": "execute_result"
    }
   ],
   "source": [
    "# Reads text to string\n",
    "with open(\"scraped_jokes.txt\", 'r') as fp:\n",
    "    raw_str = fp.read()\n",
    "    \n",
    "raw_str[0:100]"
   ]
  },
  {
   "cell_type": "markdown",
   "metadata": {},
   "source": [
    "### Word List"
   ]
  },
  {
   "cell_type": "code",
   "execution_count": 6,
   "metadata": {
    "collapsed": false
   },
   "outputs": [
    {
     "data": {
      "text/plain": [
       "['The', 'Battle', 'of', 'the', 'Nile.']"
      ]
     },
     "execution_count": 6,
     "metadata": {},
     "output_type": "execute_result"
    }
   ],
   "source": [
    "# Splits and lists each each word\n",
    "words_list = tf.compat.as_str(raw_str).split()\n",
    "\n",
    "words_list[0:5]"
   ]
  },
  {
   "cell_type": "code",
   "execution_count": 7,
   "metadata": {
    "collapsed": false
   },
   "outputs": [
    {
     "data": {
      "text/plain": [
       "9412"
      ]
     },
     "execution_count": 7,
     "metadata": {},
     "output_type": "execute_result"
    }
   ],
   "source": [
    "# Vocabulary size\n",
    "vocab_size = len(words_list)\n",
    "\n",
    "vocab_size"
   ]
  },
  {
   "cell_type": "markdown",
   "metadata": {},
   "source": [
    "### Frequency List"
   ]
  },
  {
   "cell_type": "code",
   "execution_count": 8,
   "metadata": {
    "collapsed": false
   },
   "outputs": [
    {
     "data": {
      "text/plain": [
       "[['UNK', -1], ('the', 468), ('of', 413), ('a', 274), ('to', 226)]"
      ]
     },
     "execution_count": 8,
     "metadata": {},
     "output_type": "execute_result"
    }
   ],
   "source": [
    "# import collections\n",
    "\n",
    "# Initiates unknown character counter\n",
    "frequency_list = [['UNK', -1]]\n",
    "\n",
    "# Word frequency tuple sorted by most common\n",
    "frequency_list.extend(collections.Counter(words_list).most_common(vocab_size - 1))\n",
    "\n",
    "frequency_list[0:5]"
   ]
  },
  {
   "cell_type": "code",
   "execution_count": 9,
   "metadata": {
    "collapsed": false
   },
   "outputs": [
    {
     "data": {
      "text/plain": [
       "3904"
      ]
     },
     "execution_count": 9,
     "metadata": {},
     "output_type": "execute_result"
    }
   ],
   "source": [
    "len(frequency_list)"
   ]
  },
  {
   "cell_type": "markdown",
   "metadata": {},
   "source": [
    "### Value Mapping Dictionary"
   ]
  },
  {
   "cell_type": "code",
   "execution_count": 10,
   "metadata": {
    "collapsed": false
   },
   "outputs": [],
   "source": [
    "# import operator\n",
    "\n",
    "# Dictionary of unique words with an index\n",
    "val_map_dict = dict()\n",
    "for word, _ in frequency_list:\n",
    "    val_map_dict[word] = len(val_map_dict)"
   ]
  },
  {
   "cell_type": "code",
   "execution_count": 11,
   "metadata": {
    "collapsed": false
   },
   "outputs": [
    {
     "data": {
      "text/plain": [
       "[('!\"', 3624), ('\"', 29), ('\"\"Iunderstand,\"', 2128)]"
      ]
     },
     "execution_count": 11,
     "metadata": {},
     "output_type": "execute_result"
    }
   ],
   "source": [
    "sorted(val_map_dict.items(), key=operator.itemgetter(0))[0:3] # Sorted by key"
   ]
  },
  {
   "cell_type": "code",
   "execution_count": 12,
   "metadata": {
    "collapsed": false
   },
   "outputs": [
    {
     "data": {
      "text/plain": [
       "[('UNK', 0), ('the', 1), ('of', 2)]"
      ]
     },
     "execution_count": 12,
     "metadata": {},
     "output_type": "execute_result"
    }
   ],
   "source": [
    "sorted(val_map_dict.items(), key=operator.itemgetter(1))[0:3] # Sorted by value"
   ]
  },
  {
   "cell_type": "markdown",
   "metadata": {},
   "source": [
    "### Index Text"
   ]
  },
  {
   "cell_type": "code",
   "execution_count": 13,
   "metadata": {
    "collapsed": false
   },
   "outputs": [
    {
     "data": {
      "text/plain": [
       "[11, 848, 2, 1, 2172, 261, 620, 901, 69, 1246]"
      ]
     },
     "execution_count": 13,
     "metadata": {},
     "output_type": "execute_result"
    }
   ],
   "source": [
    "index_text = []\n",
    "unk_count = 0\n",
    "\n",
    "# Maps each word in our corpus to it's index value\n",
    "for word in words_list:    \n",
    "    if word in val_map_dict:\n",
    "        index = val_map_dict[word] # Store the words index number\n",
    "    else:\n",
    "        index = 0  # # Store the int zero - dictionary['UNK']\n",
    "        unk_count += 1 # Keep track of how many unknowns we have\n",
    "    \n",
    "    # Make a list of all our word indexes and unknowns\n",
    "    index_text.append(index)\n",
    "\n",
    "index_text[0:10]"
   ]
  },
  {
   "cell_type": "code",
   "execution_count": 14,
   "metadata": {
    "collapsed": false
   },
   "outputs": [
    {
     "data": {
      "text/plain": [
       "0"
      ]
     },
     "execution_count": 14,
     "metadata": {},
     "output_type": "execute_result"
    }
   ],
   "source": [
    "# Add the new unknowns to our cout tuple\n",
    "frequency_list[0][1] = unk_count\n",
    "\n",
    "frequency_list[0][1]"
   ]
  },
  {
   "cell_type": "markdown",
   "metadata": {},
   "source": [
    "### Reverse Dictionary"
   ]
  },
  {
   "cell_type": "code",
   "execution_count": 15,
   "metadata": {
    "collapsed": false
   },
   "outputs": [
    {
     "name": "stdout",
     "output_type": "stream",
     "text": [
      "Sample index_text [11, 848, 2, 1, 2172, 261, 620, 901, 69, 1246] ['The', 'Battle', 'of', 'the', 'Nile.', 'Two', 'naval', 'officers', 'were', 'disputing']\n"
     ]
    }
   ],
   "source": [
    "reverse_dictionary = dict(zip(val_map_dict.values(), val_map_dict.keys()))\n",
    "\n",
    "# Gives us a new reverse dictionary with the numbers as keys\n",
    "{k: reverse_dictionary[k] for k in sorted(reverse_dictionary.keys())[:10]}\n",
    "print('Sample index_text', index_text[:10], [reverse_dictionary[i] for i in index_text[:10]])"
   ]
  },
  {
   "cell_type": "markdown",
   "metadata": {},
   "source": [
    "### Batch Functions\n",
    "- This function will be called to generate new data on each learning iteration. \n",
    "- The way this function is built determins if our Word2Vec model is using the the continuous bag-of-words or skip-gram configuration."
   ]
  },
  {
   "cell_type": "code",
   "execution_count": 16,
   "metadata": {
    "collapsed": false
   },
   "outputs": [],
   "source": [
    "# import numpy as np\n",
    "# import random\n",
    "\n",
    "data_index = 0\n",
    "\n",
    "def generate_batch(BATCH_SIZE, NUM_SKIPS, SKIP_WINDOW):\n",
    "    global data_index\n",
    "    assert BATCH_SIZE % NUM_SKIPS == 0\n",
    "    assert NUM_SKIPS <= 2 * SKIP_WINDOW\n",
    "    batch = np.ndarray(shape=(BATCH_SIZE), dtype=np.int32)\n",
    "    labels = np.ndarray(shape=(BATCH_SIZE, 1), dtype=np.int32)\n",
    "    span = 2 * SKIP_WINDOW + 1 # [ SKIP_WINDOW target SKIP_WINDOW ]\n",
    "    buffer = collections.deque(maxlen=span)\n",
    "    for _ in range(span):\n",
    "        buffer.append(index_text[data_index])\n",
    "        data_index = (data_index + 1) % len(index_text)\n",
    "    for i in range(BATCH_SIZE // NUM_SKIPS):\n",
    "        target = SKIP_WINDOW  # target label at the center of the buffer\n",
    "        targets_to_avoid = [ SKIP_WINDOW ]\n",
    "        for j in range(NUM_SKIPS):\n",
    "            while target in targets_to_avoid:\n",
    "                target = random.randint(0, span - 1)\n",
    "            targets_to_avoid.append(target)\n",
    "            batch[i * NUM_SKIPS + j] = buffer[SKIP_WINDOW]\n",
    "            labels[i * NUM_SKIPS + j, 0] = buffer[target]\n",
    "        buffer.append(index_text[data_index])\n",
    "        data_index = (data_index + 1) % len(index_text)\n",
    "    return batch, labels"
   ]
  },
  {
   "cell_type": "markdown",
   "metadata": {},
   "source": [
    "# Graph"
   ]
  },
  {
   "cell_type": "markdown",
   "metadata": {},
   "source": [
    "### Layer 0 (Input)"
   ]
  },
  {
   "cell_type": "code",
   "execution_count": 17,
   "metadata": {
    "collapsed": true
   },
   "outputs": [],
   "source": [
    "# Input data.\n",
    "train_inputs = tf.placeholder(tf.int32, shape=[BATCH_SIZE])\n",
    "train_labels = tf.placeholder(tf.int32, shape=[BATCH_SIZE, 1])\n",
    "valid_dataset = tf.constant(valid_examples, dtype=tf.int32)"
   ]
  },
  {
   "cell_type": "markdown",
   "metadata": {},
   "source": [
    "### Layer 1 (Output)"
   ]
  },
  {
   "cell_type": "code",
   "execution_count": 18,
   "metadata": {
    "collapsed": true
   },
   "outputs": [],
   "source": [
    "# Look up embeddings for inputs.\n",
    "embeddings = tf.Variable(tf.random_uniform([vocab_size, EMBEDDING_SIZE], -1.0, 1.0))\n",
    "embed = tf.nn.embedding_lookup(embeddings, train_inputs)"
   ]
  },
  {
   "cell_type": "code",
   "execution_count": 19,
   "metadata": {
    "collapsed": true
   },
   "outputs": [],
   "source": [
    "# import math\n",
    "\n",
    "# Construct the variables for the NCE loss\n",
    "nce_weights = tf.Variable(tf.truncated_normal([vocab_size, EMBEDDING_SIZE], stddev=1.0 / math.sqrt(EMBEDDING_SIZE)))\n",
    "nce_biases = tf.Variable(tf.zeros([vocab_size]))"
   ]
  },
  {
   "cell_type": "markdown",
   "metadata": {},
   "source": [
    "### Cost\n",
    "- Compute the average NCE loss for the batch.\n",
    "- tf.nce_loss automatically draws a new sample of the negative labels each time we evaluate the loss."
   ]
  },
  {
   "cell_type": "code",
   "execution_count": 20,
   "metadata": {
    "collapsed": true
   },
   "outputs": [],
   "source": [
    "# Compute the average NCE loss for the batch.\n",
    "cost = tf.reduce_mean( tf.nn.nce_loss(nce_weights, nce_biases, embed, train_labels, NUM_SAMPLED, vocab_size))"
   ]
  },
  {
   "cell_type": "markdown",
   "metadata": {},
   "source": [
    "### Optimizer"
   ]
  },
  {
   "cell_type": "code",
   "execution_count": 21,
   "metadata": {
    "collapsed": true
   },
   "outputs": [],
   "source": [
    "# Optimizer: SGD\n",
    "optimizer = tf.train.GradientDescentOptimizer(learning_rate=LEARNING_RATE).minimize(cost)"
   ]
  },
  {
   "cell_type": "markdown",
   "metadata": {},
   "source": [
    "### Similarity"
   ]
  },
  {
   "cell_type": "code",
   "execution_count": 22,
   "metadata": {
    "collapsed": true
   },
   "outputs": [],
   "source": [
    "# Compute the cosine similarity between minibatch examples and all embeddings.\n",
    "norm = tf.sqrt(tf.reduce_sum(tf.square(embeddings), 1, keep_dims=True))\n",
    "normalized_embeddings = embeddings / norm\n",
    "valid_embeddings = tf.nn.embedding_lookup(normalized_embeddings, valid_dataset)\n",
    "similarity = tf.matmul(valid_embeddings, normalized_embeddings, transpose_b=True)"
   ]
  },
  {
   "cell_type": "markdown",
   "metadata": {},
   "source": [
    "# Training"
   ]
  },
  {
   "cell_type": "code",
   "execution_count": 23,
   "metadata": {
    "collapsed": true
   },
   "outputs": [],
   "source": [
    "# Interactive TensorFlow session.\n",
    "sess = tf.InteractiveSession()"
   ]
  },
  {
   "cell_type": "code",
   "execution_count": 24,
   "metadata": {
    "collapsed": true
   },
   "outputs": [],
   "source": [
    "# Initialize all vars\n",
    "sess.run(tf.initialize_all_variables())"
   ]
  },
  {
   "cell_type": "code",
   "execution_count": 25,
   "metadata": {
    "collapsed": false,
    "scrolled": true
   },
   "outputs": [
    {
     "name": "stdout",
     "output_type": "stream",
     "text": [
      "Ep: 1\n",
      "Cost 226.624\n",
      "Ep: 50\n",
      "Cost 122.074\n",
      "Ep: 100\n",
      "Cost 130.618\n",
      "Ep: 150\n",
      "Cost 108.009\n",
      "Ep: 200\n",
      "Cost 103.824\n",
      "Ep: 250\n",
      "Cost 71.3766\n",
      "Ep: 300\n",
      "Cost 59.3736\n"
     ]
    }
   ],
   "source": [
    "num_steps = 10\n",
    "\n",
    "# Train & Log\n",
    "for ep in range(EPISODES):\n",
    "    \n",
    "    # Specify our batch size\n",
    "    batch_inputs, batch_labels = generate_batch(BATCH_SIZE, NUM_SKIPS, SKIP_WINDOW)\n",
    "    batch_dict = {train_inputs: batch_inputs, train_labels: batch_labels}\n",
    "    \n",
    "    # Iterativly runs our optimizer\n",
    "    sess.run(optimizer, feed_dict=batch_dict)\n",
    "    sess.run(cost, feed_dict=batch_dict)\n",
    "\n",
    "    # Print\n",
    "    if (ep+1) == 1 or (ep+1) % PRINT == 0:\n",
    "        print(\"Ep:\", ep+1)     \n",
    "        print(\"Cost\", sess.run(cost, feed_dict=batch_dict))\n",
    "        # print(\"Similarity\", sess.run(similarity, feed_dict=batch_dict))\n",
    "        \n",
    "    final_embeddings = normalized_embeddings.eval()"
   ]
  },
  {
   "cell_type": "code",
   "execution_count": 26,
   "metadata": {
    "collapsed": true
   },
   "outputs": [],
   "source": [
    "# Close an interactive TensorFlow Session when we're done.\n",
    "sess.close()"
   ]
  },
  {
   "cell_type": "markdown",
   "metadata": {},
   "source": [
    "# Visualize Embeddings\n",
    "- [scikit-learn update reminder](https://github.com/scikit-learn/scikit-learn/issues/6665)"
   ]
  },
  {
   "cell_type": "code",
   "execution_count": 27,
   "metadata": {
    "collapsed": false
   },
   "outputs": [],
   "source": [
    "# from sklearn.manifold import TSNE\n",
    "# import matplotlib.pyplot as plt\n",
    "\n",
    "def plot_with_labels(low_dim_embs, labels):\n",
    "    \n",
    "    assert low_dim_embs.shape[0] >= len(labels), \"More labels than embeddings\"\n",
    "    plt.figure(figsize=(15, 15))  # in inches\n",
    "    \n",
    "    for i, label in enumerate(labels):\n",
    "        x, y = low_dim_embs[i,:]\n",
    "        plt.scatter(x, y)\n",
    "        plt.annotate(label,\n",
    "                 xy=(x, y),\n",
    "                 xytext=(5, 2),\n",
    "                 textcoords='offset points',\n",
    "                 ha='right',\n",
    "                 va='bottom')"
   ]
  },
  {
   "cell_type": "markdown",
   "metadata": {},
   "source": [
    "### t-SNE\n",
    "- t-SNE helps us visualize higher dimensional data by converting the similarities between data points to joint probabilities then minimizing the kL divergence."
   ]
  },
  {
   "cell_type": "code",
   "execution_count": 28,
   "metadata": {
    "collapsed": false
   },
   "outputs": [
    {
     "data": {
      "image/png": "[encoded data removed]",
      "text/plain": [
       "<matplotlib.figure.Figure at 0x115a52860>"
      ]
     },
     "metadata": {},
     "output_type": "display_data"
    }
   ],
   "source": [
    "tsne = TSNE(perplexity=30, n_components=2, init='pca', n_iter=5000)\n",
    "\n",
    "# Decides number of words to return\n",
    "plot_only = 120\n",
    "low_dim_embs = tsne.fit_transform(final_embeddings[:plot_only,:])\n",
    "labels = [reverse_dictionary[i] for i in range(plot_only)]\n",
    "\n",
    "plot_with_labels(low_dim_embs, labels)"
   ]
  }
 ],
 "metadata": {
  "anaconda-cloud": {},
  "kernelspec": {
   "display_name": "Python [default]",
   "language": "python",
   "name": "python3"
  },
  "language_info": {
   "codemirror_mode": {
    "name": "ipython",
    "version": 3
   },
   "file_extension": ".py",
   "mimetype": "text/x-python",
   "name": "python",
   "nbconvert_exporter": "python",
   "pygments_lexer": "ipython3",
   "version": "3.5.2"
  }
 },
 "nbformat": 4,
 "nbformat_minor": 1
}
